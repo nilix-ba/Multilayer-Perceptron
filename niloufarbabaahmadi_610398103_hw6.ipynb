{
  "cells": [
    {
      "cell_type": "markdown",
      "id": "262bc2f8",
      "metadata": {
        "id": "262bc2f8"
      },
      "source": [
        "# Multilayer Perceptron \n",
        "#### Niloufar Babaahmadi 610398103 hw6"
      ]
    },
    {
      "cell_type": "code",
      "execution_count": null,
      "id": "37aea118",
      "metadata": {
        "id": "37aea118"
      },
      "outputs": [],
      "source": [
        "import numpy as np \n",
        "import math\n",
        "import matplotlib.pyplot as plt\n",
        "import os"
      ]
    },
    {
      "cell_type": "markdown",
      "id": "17178d4b",
      "metadata": {
        "id": "17178d4b"
      },
      "source": [
        "matrix multiplation"
      ]
    },
    {
      "cell_type": "code",
      "execution_count": null,
      "id": "0f078d06",
      "metadata": {
        "id": "0f078d06"
      },
      "outputs": [],
      "source": [
        "def matmul(a,q):\n",
        "    \n",
        "    x = a.tolist()\n",
        "    y = q.tolist()\n",
        "    \n",
        "    qw = np.matrix(x)\n",
        "    qe = np.matrix(y)\n",
        "    \n",
        "    mul = qw*qe\n",
        "    l = mul.tolist()\n",
        "    \n",
        "    return np.array(l)"
      ]
    },
    {
      "cell_type": "markdown",
      "id": "e8366e6a",
      "metadata": {
        "id": "e8366e6a"
      },
      "source": [
        "Implementation of neural network"
      ]
    },
    {
      "cell_type": "code",
      "execution_count": null,
      "id": "fe3ad650",
      "metadata": {
        "id": "fe3ad650"
      },
      "outputs": [],
      "source": [
        "class NeuralNetwork:\n",
        "\n",
        "    def __init__(self,numi,numh,numo):#numi- no of input layers \n",
        "                                        # numh=no of hidden neurons\n",
        "                                      # numo-no of outputs layer\n",
        "          self.input_nodes = numi\n",
        "          self.hidden_nodes = numh\n",
        "          self.output_nodes = numo\n",
        "        \n",
        "          self.weights_ih = np.empty([self.hidden_nodes,self.input_nodes])\n",
        "          self.weights_ho = np.empty([self.output_nodes,self.hidden_nodes])\n",
        "        \n",
        "          self.bias_h = np.empty([self.hidden_nodes])\n",
        "          self.bias_o = np.empty([self.output_nodes])\n",
        "        \n",
        "          self.lr = 0.0997\n",
        "            \n",
        "          for i in range(self.hidden_nodes):\n",
        "            \n",
        "              self.bias_h[i] = np.random.randn()\n",
        "                \n",
        "              for j in range(self.input_nodes):\n",
        "                \n",
        "                  self.weights_ih[i][j] = np.random.randn()\n",
        "                    \n",
        "          for i in range(self.output_nodes):\n",
        "            \n",
        "              self.bias_o[i] = np.random.randn()\n",
        "                \n",
        "              for j in range(self.hidden_nodes):\n",
        "                \n",
        "                  self.weights_ho[i][j] = np.random.randn()"
      ]
    },
    {
      "cell_type": "markdown",
      "id": "29a34260",
      "metadata": {
        "id": "29a34260"
      },
      "source": [
        " sigmoid and derivative"
      ]
    },
    {
      "cell_type": "code",
      "execution_count": null,
      "id": "b9ffe028",
      "metadata": {
        "id": "b9ffe028"
      },
      "outputs": [],
      "source": [
        "class NeuralNetwork(NeuralNetwork):\n",
        "    \n",
        "        def sigmoid(self,x):\n",
        "            \n",
        "            return 1/(1+np.exp(-x))\n",
        "\n",
        "        def sigmoidp(self,x):\n",
        "            \n",
        "            return sigmoid(x)*(1-sigmoid(x))"
      ]
    },
    {
      "cell_type": "markdown",
      "id": "7b23c719",
      "metadata": {
        "id": "7b23c719"
      },
      "source": [
        "Given a predefined neural network architecture the process of generating an output from an input is called a forward pass. In this MLP the forward pass is represented as a series of matrix multiplications."
      ]
    },
    {
      "cell_type": "code",
      "execution_count": null,
      "id": "af7f66fe",
      "metadata": {
        "id": "af7f66fe"
      },
      "outputs": [],
      "source": [
        "class NeuralNetwork(NeuralNetwork):\n",
        "    \n",
        "        def feedforward(self,inputq=[]):\n",
        "    \n",
        "            inputs = np.array(inputq,np.dtype('float64'))\n",
        "            h = np.add(np.dot(self.weights_ih,inputs),self.bias_h)\n",
        "            hidden = np.empty([len(h)])\n",
        "\n",
        "            for i in range(len(h)):\n",
        "\n",
        "                hidden[i] = self.sigmoid(h[i])\n",
        "\n",
        "            output = np.add(np.dot(self.weights_ho,hidden),self.bias_o)\n",
        "            guess = np.empty(len(output))\n",
        "\n",
        "            for i in range(len(output)):\n",
        "\n",
        "                guess[i] = self.sigmoid(output[i])  \n",
        "\n",
        "            return guess.tolist()"
      ]
    },
    {
      "cell_type": "markdown",
      "id": "5d2c7997",
      "metadata": {
        "id": "5d2c7997"
      },
      "source": [
        "The train function"
      ]
    },
    {
      "cell_type": "code",
      "execution_count": null,
      "id": "c3b5969c",
      "metadata": {
        "id": "c3b5969c"
      },
      "outputs": [],
      "source": [
        "class NeuralNetwork(NeuralNetwork):\n",
        "    \n",
        "       def train(self,inputq=[],answers=[]):\n",
        "            \n",
        "            targets = np.array(answers,np.dtype('float64'))\n",
        "            inputs = np.array(inputq,np.dtype('float64'))\n",
        "            \n",
        "            h = np.add(np.dot(self.weights_ih,inputs),self.bias_h)\n",
        "            \n",
        "            hidden = np.empty([len(h)])\n",
        "            \n",
        "            for i in range(len(h)):\n",
        "                \n",
        "                hidden[i] = self.sigmoid(h[i])\n",
        "                \n",
        "            output = np.add(np.dot(self.weights_ho,hidden),self.bias_o)\n",
        "            outputs = np.empty(len(output))\n",
        "            \n",
        "            for i in range(len(output)):\n",
        "                \n",
        "                outputs[i] = self.sigmoid(output[i])\n",
        "                \n",
        "            output_error = np.subtract(targets,outputs)\n",
        "            \n",
        "            who_t = self.weights_ho.T\n",
        "            hidden_error = np.dot(who_t,output_error)\n",
        "            \n",
        "            VWho = np.empty([self.output_nodes])\n",
        "            VWih = np.empty([self.hidden_nodes])\n",
        "            \n",
        "            for i in range(self.output_nodes):\n",
        "                \n",
        "                    VWho[i] = self.lr*output_error[i]*(outputs[i]*(1-outputs[i]))\n",
        "                    \n",
        "            for i in range(self.hidden_nodes):\n",
        "                \n",
        "                    VWih[i] = self.lr*hidden_error[i]*(hidden[i]*(1-hidden[i]))\n",
        "                    \n",
        "            tin = np.empty([self.input_nodes,1])\n",
        "            th = np.empty([self.hidden_nodes,1])\n",
        "            \n",
        "            for i in range(self.input_nodes):\n",
        "                \n",
        "                for j in range(1):\n",
        "                    \n",
        "                    tin[i][j] = inputs[i]\n",
        "                    \n",
        "            for i in range(self.hidden_nodes):\n",
        "                \n",
        "                for j in range(1):\n",
        "                    \n",
        "                    th[i][j] = hidden[i]\n",
        "                    \n",
        "            VWho_f = matmul(th,VWho)\n",
        "            VWih_f = matmul(tin,VWih)\n",
        "            \n",
        "            self.weights_ih = np.add(self.weights_ih,VWih_f.T)\n",
        "            self.weights_ho = np.add(self.weights_ho,VWho_f.T)\n",
        "            \n",
        "            self.bias_o = np.add(self.bias_o,VWho)\n",
        "            self.bias_h = np.add(self.bias_h,VWih)"
      ]
    },
    {
      "cell_type": "markdown",
      "id": "43b35006",
      "metadata": {
        "id": "43b35006"
      },
      "source": [
        "read inputs"
      ]
    },
    {
      "cell_type": "code",
      "execution_count": null,
      "id": "608b0079",
      "metadata": {
        "id": "608b0079"
      },
      "outputs": [],
      "source": [
        "def reader(path):\n",
        "    \n",
        "    file = open(path)\n",
        "    inp = file.read()\n",
        "    file.close()\n",
        "\n",
        "    inp_mat = inp.split('\\n')\n",
        "    \n",
        "    return inp_mat"
      ]
    },
    {
      "cell_type": "markdown",
      "id": "aa7c3ec7",
      "metadata": {
        "id": "aa7c3ec7"
      },
      "source": [
        "Finally; put together all these function in this main part and calculate the desired result."
      ]
    },
    {
      "cell_type": "code",
      "execution_count": null,
      "id": "7a45fffe",
      "metadata": {
        "id": "7a45fffe",
        "outputId": "9190bc68-fb0f-4d8a-9663-899d20905858"
      },
      "outputs": [
        {
          "name": "stdout",
          "output_type": "stream",
          "text": [
            "0.926\n",
            "---------------------------------------------------------\n",
            "[array([-0.63368781,  0.46984654]), array([ 0.02052918, -0.74106431]), array([0.23047427, 1.3218883 ]), array([ 0.20850235, -1.50069896]), array([0.50492571, 1.33289141]), array([-0.02590112, -0.63746317]), array([-0.77283908,  2.54892115]), array([ 0.04378809, -0.24505804]), array([-0.18255429, -0.59171687]), array([-0.29985468,  0.08154997]), array([-0.7483894 , -0.51972681]), array([-0.180833  , -1.37166912]), array([ 1.00480338, -2.24461118]), array([-0.76343975,  2.84022344]), array([-0.28756905,  0.10411097]), array([ 0.22535723, -1.73359793]), array([-0.84259294, -1.40771658]), array([ 0.08152712, -0.35285817]), array([-0.2675737 , -1.60862594]), array([ 0.52330092, -1.22786949]), array([ 0.40379943, -1.22460592]), array([ 0.25298155, -1.17197596]), array([ 0.02890577, -0.72352707]), array([ 0.95927101, -2.68560886]), array([ 0.08762527, -1.1504663 ]), array([ 0.33942015, -1.93150785]), array([ 0.24488748, -1.53440147]), array([ 0.62708273, -1.52628   ]), array([-0.85914894,  3.48343275]), array([ 0.17460671, -0.87068666]), array([-1.38032856, -0.50102086]), array([ 0.31439824, -1.16014834]), array([-0.05466003, -0.81771656]), array([-0.36688013,  0.46480537]), array([ 0.34958823, -0.53002099]), array([ 0.45960194, -1.17800049]), array([-0.50530054,  0.18547854]), array([ 0.24533457, -1.07046388]), array([ 0.01313829, -0.98635314]), array([ 0.25817419, -0.58004836]), array([-0.03505292, -0.24404063]), array([-0.09502145, -1.13767391]), array([ 0.11839415, -0.51631387]), array([ 0.16696665, -0.20090554]), array([ 1.47196233, -0.8675042 ]), array([-0.03869609, -1.8207771 ]), array([ 0.1197366 , -0.05301386]), array([ 0.05138674, -0.25144568]), array([ 0.4263037 , -1.43153847]), array([ 0.66396082, -2.08258177]), array([ 0.17234864, -3.06977631]), array([ 0.19219597, -1.0165943 ]), array([-0.73787576, -0.37098003]), array([-0.61490717, -0.74419507]), array([-0.69501625, -0.87823056]), array([ 0.19681188, -1.48146297]), array([-0.83896317,  1.85999026]), array([ 0.10507255, -0.53114438]), array([-0.14500691,  0.11465407]), array([-0.61547371, -0.9093948 ]), array([ 0.08323192, -1.13821338]), array([-0.79102606, -1.45978525]), array([ 0.82844215, -1.77990153]), array([0.07858513, 0.24185496]), array([-0.23414737, -0.35777409]), array([-0.28544307, -0.12885509]), array([-0.339427  , -0.86780421]), array([ 1.33726701, -1.58413455]), array([ 0.49818619, -1.54366599]), array([ 0.35923689, -1.470728  ]), array([-0.64725304,  2.54240603]), array([-0.06458046, -0.0165442 ]), array([-0.58771328, -0.91713859]), array([-0.23724999,  0.03265178])]\n"
          ]
        }
      ],
      "source": [
        "if __name__==\"__main__\" :\n",
        "    \n",
        "    nn = NeuralNetwork(2,4,1)\n",
        "    \n",
        "    inp_mat = reader(\"train\")\n",
        "    n = len(inp_mat)-1\n",
        "    \n",
        "    it = []\n",
        "    t = []\n",
        "    \n",
        "    for i in range(n):\n",
        "        \n",
        "        helper = []\n",
        "        \n",
        "        x = inp_mat[i].split()\n",
        "        \n",
        "        helper.append(float(x[0]))\n",
        "        helper.append(float(x[1]))\n",
        "        \n",
        "        it.append(helper)\n",
        "        \n",
        "        t.append([int(x[2])])\n",
        "        \n",
        "    it = np.array(it)\n",
        "    t = np.array(t)\n",
        "\n",
        "    for i in range(4000): \n",
        "        \n",
        "        nn.train(it[i],t[i])\n",
        "\n",
        "        \n",
        "    inp_mat = reader(\"test\") \n",
        "    m = len(inp_mat)-1\n",
        "    \n",
        "    input = []\n",
        "    t = []\n",
        "    \n",
        "    for i in range(m):\n",
        "        \n",
        "        helper = []\n",
        "        \n",
        "        x = inp_mat[i].split()\n",
        "        \n",
        "        helper.append(float(x[0]))\n",
        "        helper.append(float(x[1]))\n",
        "        \n",
        "        input.append(helper)\n",
        "        \n",
        "        t.append([int(x[2])])\n",
        "\n",
        "    input = np.array(input)\n",
        "    t = np.array(t)\n",
        "\n",
        "    output = []\n",
        "    bad = []\n",
        "    \n",
        "    #for plot\n",
        "    \n",
        "    x_0 = []\n",
        "    y_0 = []\n",
        "    \n",
        "    x_1 = []\n",
        "    y_1 = []\n",
        "\n",
        "    for i in range(1000):\n",
        "        \n",
        "        output.append(nn.feedforward(input[i]))\n",
        "\n",
        "    for i in range(len(output)):\n",
        "    \n",
        "        if output[i][0] > 0.5:\n",
        "            \n",
        "            output[i][0] = 1\n",
        "            \n",
        "        else:\n",
        "            \n",
        "            output[i][0] = 0\n",
        "            \n",
        "    check = 0\n",
        "    \n",
        "    for i in range(len(output)):\n",
        "        \n",
        "        if output[i][0] != t[i]:\n",
        "            \n",
        "            bad.append(input[i])\n",
        "            check += 1\n",
        "            \n",
        "        #for plot\n",
        "            \n",
        "        if output[i][0] == 0:\n",
        "            \n",
        "            x_0.append(input[i][0])\n",
        "            y_0.append(input[i][1])\n",
        "            \n",
        "#             print(input[i][0], end = ' ')\n",
        "#             print(input[i][1], end = '\\n')\n",
        "#             print(\"------\")\n",
        "            \n",
        "        if output[i][0] == 1:\n",
        "            \n",
        "            x_1.append(input[i][0])\n",
        "            y_1.append(input[i][1])\n",
        "            \n",
        "    v = 1000 - check\n",
        "    \n",
        "    print(v/1000)\n",
        "    print(\"---------------------------------------------------------\")\n",
        "    print(bad)"
      ]
    },
    {
      "cell_type": "markdown",
      "id": "9e37dc7c",
      "metadata": {
        "id": "9e37dc7c"
      },
      "source": [
        "The assigned plot"
      ]
    },
    {
      "cell_type": "code",
      "execution_count": null,
      "id": "08c9c55e",
      "metadata": {
        "id": "08c9c55e",
        "outputId": "7a880793-e66a-41c7-9684-db9b69eae7fe"
      },
      "outputs": [
        {
          "data": {
            "image/png": "[encoded data removed]",
            "text/plain": [
              "<Figure size 432x288 with 1 Axes>"
            ]
          },
          "metadata": {
            "needs_background": "light"
          },
          "output_type": "display_data"
        }
      ],
      "source": [
        "plt.scatter(x_0, y_0, color = 'pink')\n",
        "plt.scatter(x_1, y_1, color = 'deepskyblue')\n",
        "plt.show()"
      ]
    }
  ],
  "metadata": {
    "kernelspec": {
      "display_name": "Python 3 (ipykernel)",
      "language": "python",
      "name": "python3"
    },
    "language_info": {
      "codemirror_mode": {
        "name": "ipython",
        "version": 3
      },
      "file_extension": ".py",
      "mimetype": "text/x-python",
      "name": "python",
      "nbconvert_exporter": "python",
      "pygments_lexer": "ipython3",
      "version": "3.8.10"
    },
    "colab": {
      "provenance": []
    }
  },
  "nbformat": 4,
  "nbformat_minor": 5
}